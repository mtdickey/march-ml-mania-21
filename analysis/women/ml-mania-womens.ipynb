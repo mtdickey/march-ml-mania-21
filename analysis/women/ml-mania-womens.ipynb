{
 "cells": [
  {
   "cell_type": "markdown",
   "metadata": {},
   "source": [
    "## NCAAW March ML Mania"
   ]
  },
  {
   "cell_type": "code",
   "execution_count": 1,
   "metadata": {},
   "outputs": [],
   "source": [
    "import os\n",
    "import sys\n",
    "import numpy as np\n",
    "import pandas as pd\n",
    "import seaborn as sns\n",
    "import matplotlib.pyplot as plt\n",
    "from datetime import datetime, timedelta\n",
    "from sklearn.linear_model import LogisticRegression, LinearRegression\n",
    "\n",
    "plt.style.use('fivethirtyeight')\n",
    "\n",
    "## Utility Script from Kaggle\n",
    "sys.path.append(\"../\")\n",
    "import mm_data_manipulation as dm\n",
    "\n",
    "os.chdir(\"../../data/women\")"
   ]
  },
  {
   "cell_type": "markdown",
   "metadata": {},
   "source": [
    "### Data\n",
    "\n",
    "There is far less data available on the women's side.  No KenPom data and fewer provided data files... but I guess that's an opportunity!\n",
    "\n",
    "- [Provided Data](https://www.kaggle.com/c/ncaaw-march-mania-2021/data): 13 provided files including basic team info, box score stats, cities, etc.\n",
    "- Play-by-play data worth scraping using [wncaahoopR](https://github.com/snestler/wncaahoopR)\n",
    "   - This has descriptions of plays that we can potentially use to add player info."
   ]
  },
  {
   "cell_type": "code",
   "execution_count": 2,
   "metadata": {},
   "outputs": [],
   "source": [
    "## Provided\n",
    "#teams_df              = pd.read_csv(\"WTeams.csv\")\n",
    "#seasons_df            = pd.read_csv(\"WSeasons.csv\")\n",
    "#conferences_df        = pd.read_csv(\"WTeamConferences.csv\") ## could be useful as proxy for SOS?\n",
    "#team_spellings_df     = pd.read_csv(\"WTeamSpellings.csv\")\n",
    "#tourney_results_df    = pd.read_csv(\"WNCAATourneyCompactResults.csv\")\n",
    "#reg_season_results_df = pd.read_csv(\"WRegularSeasonDetailedResults.csv\")\n",
    "#sample_submission     = pd.read_csv(\"WSampleSubmissionStage1.csv\")\n",
    "#\n",
    "#                                  \n",
    "### Merge in \"DayZero\" from season, could help link to wncaahoopR data: https://github.com/snestler/wncaahoopR_data/\n",
    "#tourney_results_df = tourney_results_df.merge(seasons_df[['Season', 'DayZero']], on = 'Season')\n",
    "#tourney_results_df['date'] = tourney_results_df.apply(lambda x: datetime.strptime(x['DayZero'], \"%m/%d/%Y\") + \n",
    "#                                                       timedelta(days = x['DayNum']), axis = 1)"
   ]
  },
  {
   "cell_type": "markdown",
   "metadata": {},
   "source": [
    "## Feature Engineering"
   ]
  },
  {
   "cell_type": "code",
   "execution_count": 3,
   "metadata": {},
   "outputs": [
    {
     "data": {
      "text/html": [
       "<div>\n",
       "<style scoped>\n",
       "    .dataframe tbody tr th:only-of-type {\n",
       "        vertical-align: middle;\n",
       "    }\n",
       "\n",
       "    .dataframe tbody tr th {\n",
       "        vertical-align: top;\n",
       "    }\n",
       "\n",
       "    .dataframe thead th {\n",
       "        text-align: right;\n",
       "    }\n",
       "</style>\n",
       "<table border=\"1\" class=\"dataframe\">\n",
       "  <thead>\n",
       "    <tr style=\"text-align: right;\">\n",
       "      <th></th>\n",
       "      <th>Season</th>\n",
       "      <th>DayNum</th>\n",
       "      <th>Team1</th>\n",
       "      <th>Team2</th>\n",
       "      <th>target</th>\n",
       "      <th>target_points</th>\n",
       "      <th>T1_Loc</th>\n",
       "      <th>T2_Loc</th>\n",
       "      <th>ID</th>\n",
       "      <th>T1_Ast</th>\n",
       "      <th>...</th>\n",
       "      <th>delta_FGM3_perc</th>\n",
       "      <th>delta_FT_perc</th>\n",
       "      <th>delta_FGM_no_ast_perc</th>\n",
       "      <th>delta_True_shooting_perc</th>\n",
       "      <th>delta_Opp_True_shooting_perc</th>\n",
       "      <th>delta_OT_win_perc</th>\n",
       "      <th>delta_Seed</th>\n",
       "      <th>delta_off_edge</th>\n",
       "      <th>delta_def_edge</th>\n",
       "      <th>delta_od_margin</th>\n",
       "    </tr>\n",
       "  </thead>\n",
       "  <tbody>\n",
       "    <tr>\n",
       "      <th>0</th>\n",
       "      <td>2010</td>\n",
       "      <td>138</td>\n",
       "      <td>3124</td>\n",
       "      <td>3201</td>\n",
       "      <td>1</td>\n",
       "      <td>14</td>\n",
       "      <td>0</td>\n",
       "      <td>0</td>\n",
       "      <td>2010_3124_3201</td>\n",
       "      <td>14.687500</td>\n",
       "      <td>...</td>\n",
       "      <td>-0.069679</td>\n",
       "      <td>0.017260</td>\n",
       "      <td>0.003363</td>\n",
       "      <td>0.009230</td>\n",
       "      <td>-0.057436</td>\n",
       "      <td>-1.0</td>\n",
       "      <td>-9.0</td>\n",
       "      <td>15.506357</td>\n",
       "      <td>22.033034</td>\n",
       "      <td>1.603907</td>\n",
       "    </tr>\n",
       "    <tr>\n",
       "      <th>1</th>\n",
       "      <td>2010</td>\n",
       "      <td>138</td>\n",
       "      <td>3173</td>\n",
       "      <td>3395</td>\n",
       "      <td>1</td>\n",
       "      <td>1</td>\n",
       "      <td>0</td>\n",
       "      <td>0</td>\n",
       "      <td>2010_3173_3395</td>\n",
       "      <td>14.461538</td>\n",
       "      <td>...</td>\n",
       "      <td>-0.044864</td>\n",
       "      <td>-0.048387</td>\n",
       "      <td>0.045179</td>\n",
       "      <td>-0.008815</td>\n",
       "      <td>-0.000125</td>\n",
       "      <td>-0.5</td>\n",
       "      <td>-1.0</td>\n",
       "      <td>15.091164</td>\n",
       "      <td>16.370410</td>\n",
       "      <td>-0.430230</td>\n",
       "    </tr>\n",
       "    <tr>\n",
       "      <th>2</th>\n",
       "      <td>2010</td>\n",
       "      <td>138</td>\n",
       "      <td>3181</td>\n",
       "      <td>3214</td>\n",
       "      <td>1</td>\n",
       "      <td>35</td>\n",
       "      <td>1</td>\n",
       "      <td>-1</td>\n",
       "      <td>2010_3181_3214</td>\n",
       "      <td>14.250000</td>\n",
       "      <td>...</td>\n",
       "      <td>0.010987</td>\n",
       "      <td>-0.052773</td>\n",
       "      <td>-0.008327</td>\n",
       "      <td>0.033501</td>\n",
       "      <td>-0.013925</td>\n",
       "      <td>-1.0</td>\n",
       "      <td>-13.0</td>\n",
       "      <td>18.300842</td>\n",
       "      <td>14.533827</td>\n",
       "      <td>9.110554</td>\n",
       "    </tr>\n",
       "    <tr>\n",
       "      <th>3</th>\n",
       "      <td>2010</td>\n",
       "      <td>138</td>\n",
       "      <td>3199</td>\n",
       "      <td>3256</td>\n",
       "      <td>1</td>\n",
       "      <td>14</td>\n",
       "      <td>1</td>\n",
       "      <td>-1</td>\n",
       "      <td>2010_3199_3256</td>\n",
       "      <td>15.333333</td>\n",
       "      <td>...</td>\n",
       "      <td>0.062820</td>\n",
       "      <td>0.028984</td>\n",
       "      <td>-0.046366</td>\n",
       "      <td>0.030904</td>\n",
       "      <td>-0.000103</td>\n",
       "      <td>-0.5</td>\n",
       "      <td>-11.0</td>\n",
       "      <td>16.225874</td>\n",
       "      <td>16.129244</td>\n",
       "      <td>4.787915</td>\n",
       "    </tr>\n",
       "    <tr>\n",
       "      <th>4</th>\n",
       "      <td>2010</td>\n",
       "      <td>138</td>\n",
       "      <td>3207</td>\n",
       "      <td>3265</td>\n",
       "      <td>1</td>\n",
       "      <td>20</td>\n",
       "      <td>0</td>\n",
       "      <td>0</td>\n",
       "      <td>2010_3207_3265</td>\n",
       "      <td>15.866667</td>\n",
       "      <td>...</td>\n",
       "      <td>-0.028334</td>\n",
       "      <td>-0.081570</td>\n",
       "      <td>-0.048658</td>\n",
       "      <td>-0.039596</td>\n",
       "      <td>0.066505</td>\n",
       "      <td>0.0</td>\n",
       "      <td>-7.0</td>\n",
       "      <td>11.551791</td>\n",
       "      <td>17.504158</td>\n",
       "      <td>-1.229263</td>\n",
       "    </tr>\n",
       "  </tbody>\n",
       "</table>\n",
       "<p>5 rows × 306 columns</p>\n",
       "</div>"
      ],
      "text/plain": [
       "   Season  DayNum  Team1  Team2  target  target_points  T1_Loc  T2_Loc  \\\n",
       "0    2010     138   3124   3201       1             14       0       0   \n",
       "1    2010     138   3173   3395       1              1       0       0   \n",
       "2    2010     138   3181   3214       1             35       1      -1   \n",
       "3    2010     138   3199   3256       1             14       1      -1   \n",
       "4    2010     138   3207   3265       1             20       0       0   \n",
       "\n",
       "               ID     T1_Ast  ...  delta_FGM3_perc  delta_FT_perc  \\\n",
       "0  2010_3124_3201  14.687500  ...        -0.069679       0.017260   \n",
       "1  2010_3173_3395  14.461538  ...        -0.044864      -0.048387   \n",
       "2  2010_3181_3214  14.250000  ...         0.010987      -0.052773   \n",
       "3  2010_3199_3256  15.333333  ...         0.062820       0.028984   \n",
       "4  2010_3207_3265  15.866667  ...        -0.028334      -0.081570   \n",
       "\n",
       "   delta_FGM_no_ast_perc  delta_True_shooting_perc  \\\n",
       "0               0.003363                  0.009230   \n",
       "1               0.045179                 -0.008815   \n",
       "2              -0.008327                  0.033501   \n",
       "3              -0.046366                  0.030904   \n",
       "4              -0.048658                 -0.039596   \n",
       "\n",
       "   delta_Opp_True_shooting_perc  delta_OT_win_perc  delta_Seed  \\\n",
       "0                     -0.057436               -1.0        -9.0   \n",
       "1                     -0.000125               -0.5        -1.0   \n",
       "2                     -0.013925               -1.0       -13.0   \n",
       "3                     -0.000103               -0.5       -11.0   \n",
       "4                      0.066505                0.0        -7.0   \n",
       "\n",
       "   delta_off_edge  delta_def_edge  delta_od_margin  \n",
       "0       15.506357       22.033034         1.603907  \n",
       "1       15.091164       16.370410        -0.430230  \n",
       "2       18.300842       14.533827         9.110554  \n",
       "3       16.225874       16.129244         4.787915  \n",
       "4       11.551791       17.504158        -1.229263  \n",
       "\n",
       "[5 rows x 306 columns]"
      ]
     },
     "execution_count": 3,
     "metadata": {},
     "output_type": "execute_result"
    }
   ],
   "source": [
    "## Use Kaggle starter script to get off/def ratings, etc.\n",
    "tourney_results_df, reg_season_stats_df = dm.prepare_data('women')\n",
    "tourney_results_df.head()"
   ]
  },
  {
   "cell_type": "code",
   "execution_count": 4,
   "metadata": {},
   "outputs": [],
   "source": [
    "### TODO: Add player info (ex. missing key players that use a large % of possessions?)"
   ]
  },
  {
   "cell_type": "markdown",
   "metadata": {},
   "source": [
    "### Model\n",
    "\n",
    "#### Binary outcome\n",
    "Starting with logistic regression"
   ]
  },
  {
   "cell_type": "code",
   "execution_count": 5,
   "metadata": {},
   "outputs": [],
   "source": [
    "train_df = tourney_results_df[tourney_results_df['Season'] < 2015].copy()\n",
    "test_df  = tourney_results_df[tourney_results_df['Season'] >= 2015].copy()\n"
   ]
  },
  {
   "cell_type": "code",
   "execution_count": 6,
   "metadata": {},
   "outputs": [],
   "source": [
    "#X = train_df[['delta_off_edge', 'delta_def_edge']]\n",
    "X = train_df['delta_od_margin'].values.reshape(-1, 1)\n",
    "clf = LogisticRegression(random_state=0, solver='lbfgs',\n",
    "                          multi_class='ovr').fit(X, train_df['target'])\n",
    "train_df['fitted_probabilities'] = clf.predict_proba(X)[:,1]\n"
   ]
  },
  {
   "cell_type": "markdown",
   "metadata": {},
   "source": [
    "#### Point spread outcome\n",
    "Starting with linear regression"
   ]
  },
  {
   "cell_type": "code",
   "execution_count": 7,
   "metadata": {},
   "outputs": [
    {
     "name": "stdout",
     "output_type": "stream",
     "text": [
      "Coefficients [0.87437913]\n",
      "R-Squared 0.461\n"
     ]
    }
   ],
   "source": [
    "reg = LinearRegression().fit(X, train_df['target_points'])\n",
    "\n",
    "print(f\"Coefficients {reg.coef_}\")\n",
    "print(f\"R-Squared {np.round(reg.score(X, train_df['target_points']), 3)}\")\n"
   ]
  },
  {
   "cell_type": "markdown",
   "metadata": {},
   "source": [
    "### Submission\n",
    "\n",
    "Manipulate the sample submission file to add predictors.\n",
    "\n"
   ]
  },
  {
   "cell_type": "code",
   "execution_count": 9,
   "metadata": {},
   "outputs": [],
   "source": [
    "sample_submission = pd.read_csv(\"WSampleSubmissionStage1.csv\")"
   ]
  },
  {
   "cell_type": "code",
   "execution_count": 10,
   "metadata": {},
   "outputs": [],
   "source": [
    "## Split out the ID\n",
    "sample_submission['Season'] = sample_submission['ID'].apply(lambda x: x.split('_')[0]).astype(int)\n",
    "sample_submission['Team1'] = sample_submission['ID'].apply(lambda x: x.split('_')[1]).astype(int)\n",
    "sample_submission['Team2'] = sample_submission['ID'].apply(lambda x: x.split('_')[2]).astype(int)\n",
    "\n"
   ]
  },
  {
   "cell_type": "code",
   "execution_count": 11,
   "metadata": {},
   "outputs": [],
   "source": [
    "## Merge in the predictor variables\n",
    "## For Team 1\n",
    "reg_season_stats_df.columns = [c + '_1' if c[len(c)-2:] not in ['_1', '_2'] else c[:-2] + '_1' for c in reg_season_stats_df.columns]\n",
    "sample_submission = sample_submission.merge(reg_season_stats_df, left_on = ['Team1', 'Season'],\n",
    "                                            right_on = ['TeamID_1', 'Season_1'])\n",
    "## For Team 2\n",
    "reg_season_stats_df.columns = [c[:-2] + '_2' for c in reg_season_stats_df.columns]\n",
    "sample_submission = sample_submission.merge(reg_season_stats_df, left_on = ['Team2', 'Season'],\n",
    "                                              right_on = ['TeamID_2', 'Season_2'])\n",
    "## Difference\n",
    "sample_submission['diff_AdjEM'] = sample_submission['AdjEM_1'] - sample_submission['AdjEM_2']\n"
   ]
  },
  {
   "cell_type": "code",
   "execution_count": 16,
   "metadata": {},
   "outputs": [],
   "source": [
    "sample_submission['delta_od_margin'] = ((sample_submission['off_rating_1'] - \n",
    "                                        sample_submission['def_rating_1']) - \n",
    "                                        (sample_submission['off_rating_2'] - \n",
    "                                         sample_submission['def_rating_2']))"
   ]
  },
  {
   "cell_type": "code",
   "execution_count": 18,
   "metadata": {},
   "outputs": [],
   "source": [
    "## Submission matrix\n",
    "X = sample_submission['delta_od_margin'].values.reshape(-1, 1)\n",
    "\n",
    "## Win probability predictions\n",
    "sample_submission['Pred_prob'] = clf.predict_proba(X)[:,1]\n",
    "\n",
    "## Point spread predictions\n",
    "sample_submission['Pred_spread'] = reg.predict(X)"
   ]
  },
  {
   "cell_type": "code",
   "execution_count": 19,
   "metadata": {},
   "outputs": [],
   "source": [
    "(sample_submission[['ID', 'Pred_prob']].rename(columns = {'Pred_prob': 'Pred'})\n",
    "   .to_csv(f\"subs/submission_probs_{datetime.today().strftime('%Y-%m-%d')}.csv\", index = False))\n",
    "\n",
    "(sample_submission[['ID', 'Pred_spread']].rename(columns = {'Pred_spread': 'Pred'})\n",
    "   .to_csv(f\"subs/submission_spread_{datetime.today().strftime('%Y-%m-%d')}.csv\", index = False))"
   ]
  },
  {
   "cell_type": "markdown",
   "metadata": {},
   "source": [
    "### Scores:\n",
    "\n",
    "#### Win probabilities:\n",
    " - Basic logistic regression, 1 predictor (`delta_od_margin`): 0.56587\n",
    "\n",
    "#### Spread:\n",
    " - Basic linear regression, 1 predictor (`delta_od_margin`): 16.26094"
   ]
  }
 ],
 "metadata": {
  "kernelspec": {
   "display_name": "Python 3",
   "language": "python",
   "name": "python3"
  },
  "language_info": {
   "codemirror_mode": {
    "name": "ipython",
    "version": 3
   },
   "file_extension": ".py",
   "mimetype": "text/x-python",
   "name": "python",
   "nbconvert_exporter": "python",
   "pygments_lexer": "ipython3",
   "version": "3.7.5"
  }
 },
 "nbformat": 4,
 "nbformat_minor": 2
}
