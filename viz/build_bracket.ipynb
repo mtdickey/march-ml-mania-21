{
 "cells": [
  {
   "cell_type": "markdown",
   "metadata": {},
   "source": [
    "## Testing out the `bracket_builder` package I was working on last year"
   ]
  },
  {
   "cell_type": "code",
   "execution_count": 1,
   "metadata": {},
   "outputs": [],
   "source": [
    "import os\n",
    "import sys\n",
    "import pandas as pd\n",
    "import bracket_builder.draw as bb"
   ]
  },
  {
   "cell_type": "markdown",
   "metadata": {},
   "source": [
    "### Standard 64 team bracket"
   ]
  },
  {
   "cell_type": "code",
   "execution_count": 2,
   "metadata": {},
   "outputs": [
    {
     "data": {
      "image/png": "[encoded data removed]",
      "text/plain": [
       "<Figure size 936x720 with 1 Axes>"
      ]
     },
     "metadata": {
      "needs_background": "light"
     },
     "output_type": "display_data"
    }
   ],
   "source": [
    "b = bb.Bracket(64)\n",
    "b.draw_bracket()"
   ]
  },
  {
   "cell_type": "markdown",
   "metadata": {},
   "source": [
    "### Adding names"
   ]
  },
  {
   "cell_type": "code",
   "execution_count": 3,
   "metadata": {},
   "outputs": [],
   "source": [
    "os.chdir(\"../data/men/\")"
   ]
  },
  {
   "cell_type": "code",
   "execution_count": 4,
   "metadata": {},
   "outputs": [],
   "source": [
    "## Get past tournament data to test with\n",
    "seeds = pd.read_csv(\"MNCAATourneySeeds.csv\")\n",
    "teams = pd.read_csv(\"MTeams.csv\")\n",
    "seeds = seeds.merge(teams[['TeamID', 'TeamName']])\n",
    "ncaa_slots = pd.read_csv(\"MNCAATourneySlots.csv\")"
   ]
  },
  {
   "cell_type": "code",
   "execution_count": 5,
   "metadata": {},
   "outputs": [],
   "source": [
    "def remove_one_playin(ncaa_data):\n",
    "    \n",
    "    ### Remove the play-in seed with the seed starting with \"b\" for now\n",
    "    #### Would ideally choose the one with the greater win prob. but doesn't matter much\n",
    "    ncaa_data['seed_endswith_b'] = ncaa_data['Seed'].apply(lambda x: True if x.endswith('b') else False)\n",
    "    ncaa_data = ncaa_data[~ncaa_data['seed_endswith_b']].copy()\n",
    "    \n",
    "    ## Change the Seed for the one starting with a\n",
    "    ncaa_data['Seed'] = ncaa_data['Seed'].apply(lambda x: x[:-1] if x.endswith('a') else x)\n",
    "    \n",
    "    ## Drop the seed_endswith_b column\n",
    "    ncaa_data = ncaa_data.drop(columns = ['seed_endswith_b'])\n",
    "    \n",
    "    return ncaa_data"
   ]
  },
  {
   "cell_type": "code",
   "execution_count": 6,
   "metadata": {},
   "outputs": [
    {
     "data": {
      "text/html": [
       "<div>\n",
       "<style scoped>\n",
       "    .dataframe tbody tr th:only-of-type {\n",
       "        vertical-align: middle;\n",
       "    }\n",
       "\n",
       "    .dataframe tbody tr th {\n",
       "        vertical-align: top;\n",
       "    }\n",
       "\n",
       "    .dataframe thead th {\n",
       "        text-align: right;\n",
       "    }\n",
       "</style>\n",
       "<table border=\"1\" class=\"dataframe\">\n",
       "  <thead>\n",
       "    <tr style=\"text-align: right;\">\n",
       "      <th></th>\n",
       "      <th>Season</th>\n",
       "      <th>Seed</th>\n",
       "      <th>TeamID</th>\n",
       "      <th>TeamName</th>\n",
       "      <th>seed_num</th>\n",
       "      <th>seed_region</th>\n",
       "      <th>seed_region_2</th>\n",
       "      <th>seed_ord</th>\n",
       "    </tr>\n",
       "  </thead>\n",
       "  <tbody>\n",
       "    <tr>\n",
       "      <th>36</th>\n",
       "      <td>2019</td>\n",
       "      <td>W01</td>\n",
       "      <td>1181</td>\n",
       "      <td>Duke</td>\n",
       "      <td>1</td>\n",
       "      <td>W</td>\n",
       "      <td>W</td>\n",
       "      <td>1</td>\n",
       "    </tr>\n",
       "    <tr>\n",
       "      <th>14</th>\n",
       "      <td>2019</td>\n",
       "      <td>W16</td>\n",
       "      <td>1295</td>\n",
       "      <td>N Dakota St</td>\n",
       "      <td>16</td>\n",
       "      <td>W</td>\n",
       "      <td>W</td>\n",
       "      <td>2</td>\n",
       "    </tr>\n",
       "    <tr>\n",
       "      <th>1</th>\n",
       "      <td>2019</td>\n",
       "      <td>W08</td>\n",
       "      <td>1433</td>\n",
       "      <td>VCU</td>\n",
       "      <td>8</td>\n",
       "      <td>W</td>\n",
       "      <td>W</td>\n",
       "      <td>3</td>\n",
       "    </tr>\n",
       "    <tr>\n",
       "      <th>23</th>\n",
       "      <td>2019</td>\n",
       "      <td>W09</td>\n",
       "      <td>1416</td>\n",
       "      <td>UCF</td>\n",
       "      <td>9</td>\n",
       "      <td>W</td>\n",
       "      <td>W</td>\n",
       "      <td>4</td>\n",
       "    </tr>\n",
       "    <tr>\n",
       "      <th>53</th>\n",
       "      <td>2019</td>\n",
       "      <td>W05</td>\n",
       "      <td>1280</td>\n",
       "      <td>Mississippi St</td>\n",
       "      <td>5</td>\n",
       "      <td>W</td>\n",
       "      <td>W</td>\n",
       "      <td>5</td>\n",
       "    </tr>\n",
       "    <tr>\n",
       "      <th>62</th>\n",
       "      <td>2019</td>\n",
       "      <td>W12</td>\n",
       "      <td>1251</td>\n",
       "      <td>Liberty</td>\n",
       "      <td>12</td>\n",
       "      <td>W</td>\n",
       "      <td>W</td>\n",
       "      <td>6</td>\n",
       "    </tr>\n",
       "    <tr>\n",
       "      <th>4</th>\n",
       "      <td>2019</td>\n",
       "      <td>W04</td>\n",
       "      <td>1439</td>\n",
       "      <td>Virginia Tech</td>\n",
       "      <td>4</td>\n",
       "      <td>W</td>\n",
       "      <td>W</td>\n",
       "      <td>7</td>\n",
       "    </tr>\n",
       "    <tr>\n",
       "      <th>17</th>\n",
       "      <td>2019</td>\n",
       "      <td>W13</td>\n",
       "      <td>1387</td>\n",
       "      <td>St Louis</td>\n",
       "      <td>13</td>\n",
       "      <td>W</td>\n",
       "      <td>W</td>\n",
       "      <td>8</td>\n",
       "    </tr>\n",
       "    <tr>\n",
       "      <th>49</th>\n",
       "      <td>2019</td>\n",
       "      <td>W06</td>\n",
       "      <td>1268</td>\n",
       "      <td>Maryland</td>\n",
       "      <td>6</td>\n",
       "      <td>W</td>\n",
       "      <td>W</td>\n",
       "      <td>9</td>\n",
       "    </tr>\n",
       "    <tr>\n",
       "      <th>43</th>\n",
       "      <td>2019</td>\n",
       "      <td>W11</td>\n",
       "      <td>1125</td>\n",
       "      <td>Belmont</td>\n",
       "      <td>11</td>\n",
       "      <td>W</td>\n",
       "      <td>W</td>\n",
       "      <td>10</td>\n",
       "    </tr>\n",
       "    <tr>\n",
       "      <th>45</th>\n",
       "      <td>2019</td>\n",
       "      <td>W03</td>\n",
       "      <td>1261</td>\n",
       "      <td>LSU</td>\n",
       "      <td>3</td>\n",
       "      <td>W</td>\n",
       "      <td>W</td>\n",
       "      <td>11</td>\n",
       "    </tr>\n",
       "    <tr>\n",
       "      <th>10</th>\n",
       "      <td>2019</td>\n",
       "      <td>W14</td>\n",
       "      <td>1463</td>\n",
       "      <td>Yale</td>\n",
       "      <td>14</td>\n",
       "      <td>W</td>\n",
       "      <td>W</td>\n",
       "      <td>12</td>\n",
       "    </tr>\n",
       "    <tr>\n",
       "      <th>33</th>\n",
       "      <td>2019</td>\n",
       "      <td>W07</td>\n",
       "      <td>1257</td>\n",
       "      <td>Louisville</td>\n",
       "      <td>7</td>\n",
       "      <td>W</td>\n",
       "      <td>W</td>\n",
       "      <td>13</td>\n",
       "    </tr>\n",
       "    <tr>\n",
       "      <th>27</th>\n",
       "      <td>2019</td>\n",
       "      <td>W10</td>\n",
       "      <td>1278</td>\n",
       "      <td>Minnesota</td>\n",
       "      <td>10</td>\n",
       "      <td>W</td>\n",
       "      <td>W</td>\n",
       "      <td>14</td>\n",
       "    </tr>\n",
       "    <tr>\n",
       "      <th>29</th>\n",
       "      <td>2019</td>\n",
       "      <td>W02</td>\n",
       "      <td>1277</td>\n",
       "      <td>Michigan St</td>\n",
       "      <td>2</td>\n",
       "      <td>W</td>\n",
       "      <td>W</td>\n",
       "      <td>15</td>\n",
       "    </tr>\n",
       "    <tr>\n",
       "      <th>56</th>\n",
       "      <td>2019</td>\n",
       "      <td>W15</td>\n",
       "      <td>1133</td>\n",
       "      <td>Bradley</td>\n",
       "      <td>15</td>\n",
       "      <td>W</td>\n",
       "      <td>W</td>\n",
       "      <td>16</td>\n",
       "    </tr>\n",
       "  </tbody>\n",
       "</table>\n",
       "</div>"
      ],
      "text/plain": [
       "    Season Seed  TeamID        TeamName  seed_num seed_region seed_region_2  \\\n",
       "36    2019  W01    1181            Duke         1           W             W   \n",
       "14    2019  W16    1295     N Dakota St        16           W             W   \n",
       "1     2019  W08    1433             VCU         8           W             W   \n",
       "23    2019  W09    1416             UCF         9           W             W   \n",
       "53    2019  W05    1280  Mississippi St         5           W             W   \n",
       "62    2019  W12    1251         Liberty        12           W             W   \n",
       "4     2019  W04    1439   Virginia Tech         4           W             W   \n",
       "17    2019  W13    1387        St Louis        13           W             W   \n",
       "49    2019  W06    1268        Maryland         6           W             W   \n",
       "43    2019  W11    1125         Belmont        11           W             W   \n",
       "45    2019  W03    1261             LSU         3           W             W   \n",
       "10    2019  W14    1463            Yale        14           W             W   \n",
       "33    2019  W07    1257      Louisville         7           W             W   \n",
       "27    2019  W10    1278       Minnesota        10           W             W   \n",
       "29    2019  W02    1277     Michigan St         2           W             W   \n",
       "56    2019  W15    1133         Bradley        15           W             W   \n",
       "\n",
       "    seed_ord  \n",
       "36         1  \n",
       "14         2  \n",
       "1          3  \n",
       "23         4  \n",
       "53         5  \n",
       "62         6  \n",
       "4          7  \n",
       "17         8  \n",
       "49         9  \n",
       "43        10  \n",
       "45        11  \n",
       "10        12  \n",
       "33        13  \n",
       "27        14  \n",
       "29        15  \n",
       "56        16  "
      ]
     },
     "execution_count": 6,
     "metadata": {},
     "output_type": "execute_result"
    }
   ],
   "source": [
    "### Limit to 1 season\n",
    "ncaa_2019_teams = seeds[seeds['Season'] == 2019].copy()\n",
    "\n",
    "## Remove the 'b' play-in seeds and remove 'a' suffix from the deemed 'winner'\n",
    "ncaa_2019_teams = remove_one_playin(ncaa_2019_teams)\n",
    "\n",
    "## Split the seed into Region and number parts\n",
    "ncaa_2019_teams['seed_num']    = ncaa_2019_teams['Seed'].apply(lambda x: int(x[1:]))\n",
    "ncaa_2019_teams['seed_region'] = ncaa_2019_teams['Seed'].apply(lambda x: x[0])\n",
    "ncaa_2019_teams['seed_region_2'] = ncaa_2019_teams['seed_region'].apply(lambda x: 'Z' if x == 'Y'\n",
    "                                                                             else 'Y' if x == 'Z'\n",
    "                                                                             else x)\n",
    "\n",
    "## Proper ordering for seeds within each region in the 1st round\n",
    "seed_order = pd.DataFrame({'seed_num': [1, 16, 8, 9, 5, 12, 4, 13, 6, 11, 3, 14, 7, 10, 2, 15],\n",
    "                           'seed_ord': [1, 2, 3, 4, 5, 6, 7, 8, 9, 10, 11, 12, 13, 14, 15, 16]})\n",
    "ncaa_2019_teams = ncaa_2019_teams.merge(seed_order)\n",
    "\n",
    "## Sort it properly and check it out\n",
    "ncaa_2019_teams = ncaa_2019_teams.sort_values(['seed_region_2', 'seed_ord'])\n",
    "ncaa_2019_teams.head(16)"
   ]
  },
  {
   "cell_type": "code",
   "execution_count": 7,
   "metadata": {},
   "outputs": [
    {
     "data": {
      "image/png": "[encoded data removed]",
      "text/plain": [
       "<Figure size 936x720 with 1 Axes>"
      ]
     },
     "metadata": {
      "needs_background": "light"
     },
     "output_type": "display_data"
    }
   ],
   "source": [
    "### Label team names (note: had to switch 'Z' and 'Y' region labels.)\n",
    "b_2 = bb.Bracket(n_teams = 64, team_names = list(ncaa_2019_teams['TeamName']))\n",
    "b_2.draw_bracket()\n",
    "b_2.label_teams()"
   ]
  },
  {
   "cell_type": "markdown",
   "metadata": {},
   "source": [
    "#### What it should look like:\n",
    "\n",
    "![ncaa_2019](ncaa_2019_bracket.PNG)\n"
   ]
  },
  {
   "cell_type": "markdown",
   "metadata": {},
   "source": [
    "## To-Do\n",
    "\n",
    "  1. Fix up the `label_winners()` function and/or get a pipeline to easily get winners in required order\n",
    "  2. Complete the `draw_weighted_lines()` function to draw lines in the team's colors.\n",
    "  3. Get a pipeline in `calculate` going to `compute_conditional_probs()` in a way that works seamlessly with weighted lines."
   ]
  }
 ],
 "metadata": {
  "kernelspec": {
   "display_name": "Python 3",
   "language": "python",
   "name": "python3"
  },
  "language_info": {
   "codemirror_mode": {
    "name": "ipython",
    "version": 3
   },
   "file_extension": ".py",
   "mimetype": "text/x-python",
   "name": "python",
   "nbconvert_exporter": "python",
   "pygments_lexer": "ipython3",
   "version": "3.7.5"
  }
 },
 "nbformat": 4,
 "nbformat_minor": 2
}
